{
  "nbformat": 4,
  "nbformat_minor": 0,
  "metadata": {
    "colab": {
      "name": "rapids_colab.ipynb",
      "provenance": [],
      "collapsed_sections": [],
      "include_colab_link": true
    },
    "kernelspec": {
      "name": "python3",
      "display_name": "Python 3"
    },
    "accelerator": "GPU"
  },
  "cells": [
    {
      "cell_type": "markdown",
      "metadata": {
        "id": "view-in-github",
        "colab_type": "text"
      },
      "source": [
        "<a href=\"https://colab.research.google.com/github/msalmani/test/blob/master/rapids_colab.ipynb\" target=\"_parent\"><img src=\"https://colab.research.google.com/assets/colab-badge.svg\" alt=\"Open In Colab\"/></a>"
      ]
    },
    {
      "cell_type": "markdown",
      "metadata": {
        "id": "VccCXnrviBGJ",
        "colab_type": "text"
      },
      "source": [
        "## Rapids on colab"
      ]
    },
    {
      "cell_type": "markdown",
      "metadata": {
        "id": "Kop5kT5HiRUB",
        "colab_type": "text"
      },
      "source": [
        "### [0] Checking environment "
      ]
    },
    {
      "cell_type": "code",
      "metadata": {
        "id": "NSEyuN3diVll",
        "colab_type": "code",
        "outputId": "50bf1fee-76b9-4aae-b63d-060296989b88",
        "colab": {
          "base_uri": "https://localhost:8080/",
          "height": 306
        }
      },
      "source": [
        "!nvidia-smi "
      ],
      "execution_count": 0,
      "outputs": [
        {
          "output_type": "stream",
          "text": [
            "Wed Jul 10 09:06:31 2019       \n",
            "+-----------------------------------------------------------------------------+\n",
            "| NVIDIA-SMI 418.67       Driver Version: 410.79       CUDA Version: 10.0     |\n",
            "|-------------------------------+----------------------+----------------------+\n",
            "| GPU  Name        Persistence-M| Bus-Id        Disp.A | Volatile Uncorr. ECC |\n",
            "| Fan  Temp  Perf  Pwr:Usage/Cap|         Memory-Usage | GPU-Util  Compute M. |\n",
            "|===============================+======================+======================|\n",
            "|   0  Tesla K80           Off  | 00000000:00:04.0 Off |                    0 |\n",
            "| N/A   69C    P8    34W / 149W |      0MiB / 11441MiB |      0%      Default |\n",
            "+-------------------------------+----------------------+----------------------+\n",
            "                                                                               \n",
            "+-----------------------------------------------------------------------------+\n",
            "| Processes:                                                       GPU Memory |\n",
            "|  GPU       PID   Type   Process name                             Usage      |\n",
            "|=============================================================================|\n",
            "|  No running processes found                                                 |\n",
            "+-----------------------------------------------------------------------------+\n"
          ],
          "name": "stdout"
        }
      ]
    },
    {
      "cell_type": "code",
      "metadata": {
        "id": "U_C8KUpyiVpa",
        "colab_type": "code",
        "outputId": "4962efbd-6928-4aeb-e02b-49cdb1ccc55b",
        "colab": {
          "base_uri": "https://localhost:8080/",
          "height": 85
        }
      },
      "source": [
        "!nvcc -V"
      ],
      "execution_count": 0,
      "outputs": [
        {
          "output_type": "stream",
          "text": [
            "nvcc: NVIDIA (R) Cuda compiler driver\n",
            "Copyright (c) 2005-2018 NVIDIA Corporation\n",
            "Built on Sat_Aug_25_21:08:01_CDT_2018\n",
            "Cuda compilation tools, release 10.0, V10.0.130\n"
          ],
          "name": "stdout"
        }
      ]
    },
    {
      "cell_type": "code",
      "metadata": {
        "id": "yTKAc7S3iZfl",
        "colab_type": "code",
        "outputId": "1a846d3f-ff29-4c40-a852-93a9f386bc65",
        "colab": {
          "base_uri": "https://localhost:8080/",
          "height": 51
        }
      },
      "source": [
        "!python -V; pip -V"
      ],
      "execution_count": 0,
      "outputs": [
        {
          "output_type": "stream",
          "text": [
            "Python 3.6.8\n",
            "pip 19.1.1 from /usr/local/lib/python3.6/dist-packages/pip (python 3.6)\n"
          ],
          "name": "stdout"
        }
      ]
    },
    {
      "cell_type": "code",
      "metadata": {
        "id": "OE4ipb7iIrJh",
        "colab_type": "code",
        "outputId": "e8bad566-af84-427e-e07f-68222215af8c",
        "colab": {
          "base_uri": "https://localhost:8080/",
          "height": 68
        }
      },
      "source": [
        "!pip install numba"
      ],
      "execution_count": 0,
      "outputs": [
        {
          "output_type": "stream",
          "text": [
            "Requirement already satisfied: numba in /usr/local/lib/python3.6/dist-packages (0.40.1)\n",
            "Requirement already satisfied: numpy in /usr/local/lib/python3.6/dist-packages (from numba) (1.16.4)\n",
            "Requirement already satisfied: llvmlite>=0.25.0dev0 in /usr/local/lib/python3.6/dist-packages (from numba) (0.29.0)\n"
          ],
          "name": "stdout"
        }
      ]
    },
    {
      "cell_type": "code",
      "metadata": {
        "id": "UzfxXArQJgRl",
        "colab_type": "code",
        "colab": {}
      },
      "source": [
        "import os\n",
        "os.environ['NUMBAPRO_NVVM']='/usr/local/cuda/nvvm/lib64/libnvvm.so'\n",
        "os.environ['NUMBAPRO_LIBDEVICE']='/usr/local/cuda/nvvm/libdevice/'"
      ],
      "execution_count": 0,
      "outputs": []
    },
    {
      "cell_type": "code",
      "metadata": {
        "id": "DR97I9tAIvaU",
        "colab_type": "code",
        "outputId": "19f00224-9006-4b28-ed80-305805e5b3ba",
        "colab": {
          "base_uri": "https://localhost:8080/",
          "height": 51
        }
      },
      "source": [
        "from numba import cuda, vectorize, guvectorize\n",
        "from numba import void, uint8 , uint32, uint64, int32, int64, float32, float64, f8\n",
        "import numpy as np \n",
        "\n",
        "@cuda.jit('void(float32[:], float32[:], float32[:])')\n",
        "def cu_multexamp(a, b, c):\n",
        "    \"\"\"This kernel function will be executed by a thread.\"\"\"\n",
        "    i = cuda.threadIdx.x + cuda.blockIdx.x * cuda.blockDim.x \n",
        "    if i > c.size:\n",
        "        return\n",
        "    c[i] = a[i] * b[i]\n",
        "\n",
        "device = cuda.get_current_device()\n",
        "n = 1000000\n",
        "a = np.arange(n, dtype=np.float32)\n",
        "b = np.arange(n, dtype=np.float32)\n",
        "c = np.empty_like(a)\n",
        "\n",
        "# Assign equivalent storage on device\n",
        "da = cuda.to_device(a)\n",
        "db = cuda.to_device(b)\n",
        "# Assign storage on device for output\n",
        "dc = cuda.device_array_like(a)\n",
        "\n",
        "tpb = device.WARP_SIZE\n",
        "bpg = int(np.ceil((n)/tpb))\n",
        "cu_multexamp[bpg, tpb](da, db, dc)\n",
        "# Transfer output from device to host\n",
        "c = dc.copy_to_host()\n",
        "print (c)"
      ],
      "execution_count": 0,
      "outputs": [
        {
          "output_type": "stream",
          "text": [
            "[0.00000e+00 1.00000e+00 4.00000e+00 ... 9.99994e+11 9.99996e+11\n",
            " 9.99998e+11]\n"
          ],
          "name": "stdout"
        }
      ]
    },
    {
      "cell_type": "code",
      "metadata": {
        "id": "D9j4J31vIvdw",
        "colab_type": "code",
        "colab": {}
      },
      "source": [
        ""
      ],
      "execution_count": 0,
      "outputs": []
    },
    {
      "cell_type": "markdown",
      "metadata": {
        "id": "VuoX7Wz2iGex",
        "colab_type": "text"
      },
      "source": [
        "### [1] installing `cudf`"
      ]
    },
    {
      "cell_type": "code",
      "metadata": {
        "id": "Mq9-TnhAiNI_",
        "colab_type": "code",
        "outputId": "618563b3-6ff4-46a0-d9ae-011f7d5459a3",
        "colab": {
          "base_uri": "https://localhost:8080/",
          "height": 238
        }
      },
      "source": [
        "!pip install cudf-cuda100"
      ],
      "execution_count": 0,
      "outputs": [
        {
          "output_type": "stream",
          "text": [
            "Requirement already satisfied: cudf-cuda100 in /usr/local/lib/python3.6/dist-packages (0.6.1)\n",
            "Requirement already satisfied: pandas>=0.23.4 in /usr/local/lib/python3.6/dist-packages (from cudf-cuda100) (0.24.2)\n",
            "Requirement already satisfied: numpy>=1.14 in /usr/local/lib/python3.6/dist-packages (from cudf-cuda100) (1.16.4)\n",
            "Requirement already satisfied: nvstrings-cuda100 in /usr/local/lib/python3.6/dist-packages (from cudf-cuda100) (0.3.0.post1)\n",
            "Requirement already satisfied: numba<0.42,>=0.40.0 in /usr/local/lib/python3.6/dist-packages (from cudf-cuda100) (0.40.1)\n",
            "Requirement already satisfied: cffi>=1.0.0 in /usr/local/lib/python3.6/dist-packages (from cudf-cuda100) (1.12.3)\n",
            "Requirement already satisfied: pycparser==2.19 in /usr/local/lib/python3.6/dist-packages (from cudf-cuda100) (2.19)\n",
            "Requirement already satisfied: pyarrow==0.12.1 in /usr/local/lib/python3.6/dist-packages (from cudf-cuda100) (0.12.1)\n",
            "Requirement already satisfied: cython<0.30,>=0.29 in /usr/local/lib/python3.6/dist-packages (from cudf-cuda100) (0.29.9)\n",
            "Requirement already satisfied: python-dateutil>=2.5.0 in /usr/local/lib/python3.6/dist-packages (from pandas>=0.23.4->cudf-cuda100) (2.5.3)\n",
            "Requirement already satisfied: pytz>=2011k in /usr/local/lib/python3.6/dist-packages (from pandas>=0.23.4->cudf-cuda100) (2018.9)\n",
            "Requirement already satisfied: llvmlite>=0.25.0dev0 in /usr/local/lib/python3.6/dist-packages (from numba<0.42,>=0.40.0->cudf-cuda100) (0.28.0)\n",
            "Requirement already satisfied: six>=1.0.0 in /usr/local/lib/python3.6/dist-packages (from pyarrow==0.12.1->cudf-cuda100) (1.12.0)\n"
          ],
          "name": "stdout"
        }
      ]
    },
    {
      "cell_type": "code",
      "metadata": {
        "id": "IH2S1QaBiNMN",
        "colab_type": "code",
        "colab": {}
      },
      "source": [
        "!cp /usr/local/lib/python3.6/dist-packages/librmm.so ."
      ],
      "execution_count": 0,
      "outputs": []
    },
    {
      "cell_type": "code",
      "metadata": {
        "id": "_d5N3wtdiphE",
        "colab_type": "code",
        "colab": {}
      },
      "source": [
        "# setting up the required environments\n",
        "import os\n",
        "os.environ['NUMBAPRO_NVVM']='/usr/local/cuda-10.0/nvvm/lib64/libnvvm.so'\n",
        "os.environ['NUMBAPRO_LIBDEVICE']='/usr/local/cuda-10.0/nvvm/libdevice'"
      ],
      "execution_count": 0,
      "outputs": []
    },
    {
      "cell_type": "code",
      "metadata": {
        "id": "AzIUAoOrirBi",
        "colab_type": "code",
        "outputId": "829a575a-f7a3-4591-e323-0f3d783c07ff",
        "colab": {
          "base_uri": "https://localhost:8080/",
          "height": 153
        }
      },
      "source": [
        "# cudf example\n",
        "\n",
        "import cudf, io, requests\n",
        "from io import StringIO\n",
        "\n",
        "url=\"https://github.com/plotly/datasets/raw/master/tips.csv\"\n",
        "content = requests.get(url).content.decode('utf-8')\n",
        "\n",
        "tips_df = cudf.read_csv(StringIO(content))\n",
        "tips_df['tip_percentage'] = tips_df['tip']/tips_df['total_bill']*100\n",
        "\n",
        "# display average tip by dining party size\n",
        "print(tips_df.groupby('size').tip_percentage.mean())"
      ],
      "execution_count": 0,
      "outputs": [
        {
          "output_type": "stream",
          "text": [
            "size\n",
            "1     21.72920154872781\n",
            "2    16.571919173482893\n",
            "3    15.215685473711831\n",
            "4    14.594900639351332\n",
            "5    14.149548965142023\n",
            "6    15.622920072028379\n",
            "Name: tip_percentage, dtype: float64\n"
          ],
          "name": "stdout"
        }
      ]
    },
    {
      "cell_type": "markdown",
      "metadata": {
        "id": "oFFzyLo4i6Xl",
        "colab_type": "text"
      },
      "source": [
        "### [2] Installing `cuml`"
      ]
    },
    {
      "cell_type": "code",
      "metadata": {
        "id": "HeyByXUb41lj",
        "colab_type": "code",
        "outputId": "caf223fd-17e5-4388-fc43-b6b2d444ffd4",
        "colab": {
          "base_uri": "https://localhost:8080/",
          "height": 428
        }
      },
      "source": [
        "# installing the cuml dependencies\n",
        "!apt install libopenblas-base libomp-dev"
      ],
      "execution_count": 0,
      "outputs": [
        {
          "output_type": "stream",
          "text": [
            "\rReading package lists... 0%\r\rReading package lists... 0%\r\rReading package lists... 0%\r\rReading package lists... 7%\r\rReading package lists... 7%\r\rReading package lists... 8%\r\rReading package lists... 8%\r\rReading package lists... 72%\r\rReading package lists... 72%\r\rReading package lists... 73%\r\rReading package lists... 73%\r\rReading package lists... 79%\r\rReading package lists... 79%\r\rReading package lists... 79%\r\rReading package lists... 79%\r\rReading package lists... 88%\r\rReading package lists... 88%\r\rReading package lists... 88%\r\rReading package lists... 88%\r\rReading package lists... 88%\r\rReading package lists... 88%\r\rReading package lists... 88%\r\rReading package lists... 88%\r\rReading package lists... 88%\r\rReading package lists... 91%\r\rReading package lists... 91%\r\rReading package lists... 91%\r\rReading package lists... 91%\r\rReading package lists... 93%\r\rReading package lists... 93%\r\rReading package lists... 93%\r\rReading package lists... 93%\r\rReading package lists... 94%\r\rReading package lists... 94%\r\rReading package lists... 94%\r\rReading package lists... 94%\r\rReading package lists... 94%\r\rReading package lists... 94%\r\rReading package lists... 98%\r\rReading package lists... 98%\r\rReading package lists... 98%\r\rReading package lists... 98%\r\rReading package lists... Done\r\n",
            "\rBuilding dependency tree... 0%\r\rBuilding dependency tree... 0%\r\rBuilding dependency tree... 50%\r\rBuilding dependency tree... 50%\r\rBuilding dependency tree       \r\n",
            "\rReading state information... 0%\r\rReading state information... 0%\r\rReading state information... Done\r\n",
            "libomp-dev is already the newest version (5.0.1-1).\n",
            "libopenblas-base is already the newest version (0.2.20+ds-4).\n",
            "The following package was automatically installed and is no longer required:\n",
            "  libnvidia-common-410\n",
            "Use 'apt autoremove' to remove it.\n",
            "0 upgraded, 0 newly installed, 0 to remove and 6 not upgraded.\n",
            "Requirement already satisfied: cuml-cuda100 in /usr/local/lib/python3.6/dist-packages (0.6.1)\n",
            "Requirement already satisfied: numpy in /usr/local/lib/python3.6/dist-packages (from cuml-cuda100) (1.16.4)\n",
            "Requirement already satisfied: cudf-cuda100<0.7.1,>=0.6.1 in /usr/local/lib/python3.6/dist-packages (from cuml-cuda100) (0.6.1)\n",
            "Requirement already satisfied: cython>=0.29<0.30 in /usr/local/lib/python3.6/dist-packages (from cuml-cuda100) (0.29.9)\n",
            "Requirement already satisfied: pandas>=0.23.4 in /usr/local/lib/python3.6/dist-packages (from cudf-cuda100<0.7.1,>=0.6.1->cuml-cuda100) (0.24.2)\n",
            "Requirement already satisfied: nvstrings-cuda100 in /usr/local/lib/python3.6/dist-packages (from cudf-cuda100<0.7.1,>=0.6.1->cuml-cuda100) (0.3.0.post1)\n",
            "Requirement already satisfied: pyarrow==0.12.1 in /usr/local/lib/python3.6/dist-packages (from cudf-cuda100<0.7.1,>=0.6.1->cuml-cuda100) (0.12.1)\n",
            "Requirement already satisfied: numba<0.42,>=0.40.0 in /usr/local/lib/python3.6/dist-packages (from cudf-cuda100<0.7.1,>=0.6.1->cuml-cuda100) (0.40.1)\n",
            "Requirement already satisfied: cffi>=1.0.0 in /usr/local/lib/python3.6/dist-packages (from cudf-cuda100<0.7.1,>=0.6.1->cuml-cuda100) (1.12.3)\n",
            "Requirement already satisfied: pycparser==2.19 in /usr/local/lib/python3.6/dist-packages (from cudf-cuda100<0.7.1,>=0.6.1->cuml-cuda100) (2.19)\n",
            "Requirement already satisfied: python-dateutil>=2.5.0 in /usr/local/lib/python3.6/dist-packages (from pandas>=0.23.4->cudf-cuda100<0.7.1,>=0.6.1->cuml-cuda100) (2.5.3)\n",
            "Requirement already satisfied: pytz>=2011k in /usr/local/lib/python3.6/dist-packages (from pandas>=0.23.4->cudf-cuda100<0.7.1,>=0.6.1->cuml-cuda100) (2018.9)\n",
            "Requirement already satisfied: six>=1.0.0 in /usr/local/lib/python3.6/dist-packages (from pyarrow==0.12.1->cudf-cuda100<0.7.1,>=0.6.1->cuml-cuda100) (1.12.0)\n",
            "Requirement already satisfied: llvmlite>=0.25.0dev0 in /usr/local/lib/python3.6/dist-packages (from numba<0.42,>=0.40.0->cudf-cuda100<0.7.1,>=0.6.1->cuml-cuda100) (0.28.0)\n"
          ],
          "name": "stdout"
        }
      ]
    },
    {
      "cell_type": "code",
      "metadata": {
        "id": "O9qfdItLjURu",
        "colab_type": "code",
        "colab": {}
      },
      "source": [
        "# installing cuml\n",
        "!pip install cuml-cuda100"
      ],
      "execution_count": 0,
      "outputs": []
    },
    {
      "cell_type": "code",
      "metadata": {
        "id": "ad2kG34i430a",
        "colab_type": "code",
        "colab": {}
      },
      "source": [
        "!cp /usr/local/lib/python3.6/dist-packages/libcuml.so /usr/lib64-nvidia/"
      ],
      "execution_count": 0,
      "outputs": []
    },
    {
      "cell_type": "code",
      "metadata": {
        "id": "3Uk49SIW5Esf",
        "colab_type": "code",
        "outputId": "d988760e-d773-494c-8cd4-7b84f33074b8",
        "colab": {
          "base_uri": "https://localhost:8080/",
          "height": 85
        }
      },
      "source": [
        "# example cuml\n",
        "import cudf\n",
        "from cuml import DBSCAN\n",
        "\n",
        "# Create and populate a GPU DataFrame\n",
        "gdf_float = cudf.DataFrame()\n",
        "gdf_float['0'] = [1.0, 2.0, 5.0]\n",
        "gdf_float['1'] = [4.0, 2.0, 1.0]\n",
        "gdf_float['2'] = [4.0, 2.0, 1.0]\n",
        "\n",
        "# Setup and fit clusters\n",
        "dbscan_float = DBSCAN(eps=1.0, min_samples=1)\n",
        "dbscan_float.fit(gdf_float)\n",
        "\n",
        "print(dbscan_float.labels_)"
      ],
      "execution_count": 0,
      "outputs": [
        {
          "output_type": "stream",
          "text": [
            "0    0\n",
            "1    1\n",
            "2    2\n",
            "dtype: int32\n"
          ],
          "name": "stdout"
        }
      ]
    },
    {
      "cell_type": "code",
      "metadata": {
        "id": "uEKrEc5QkWHz",
        "colab_type": "code",
        "colab": {}
      },
      "source": [
        ""
      ],
      "execution_count": 0,
      "outputs": []
    }
  ]
}